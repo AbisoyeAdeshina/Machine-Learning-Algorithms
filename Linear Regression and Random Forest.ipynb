{
  "nbformat": 4,
  "nbformat_minor": 0,
  "metadata": {
    "colab": {
      "provenance": []
    },
    "kernelspec": {
      "name": "python3",
      "display_name": "Python 3"
    },
    "language_info": {
      "name": "python"
    }
  },
  "cells": [
    {
      "cell_type": "code",
      "source": [
        "import pandas as pd\n",
        "from sklearn.metrics import mean_absolute_error"
      ],
      "metadata": {
        "id": "_4DU7HlvmuXA"
      },
      "execution_count": null,
      "outputs": []
    },
    {
      "cell_type": "code",
      "source": [
        "import matplotlib.pyplot as plt\n",
        "plt.style.use('ggplot')"
      ],
      "metadata": {
        "id": "Qk3fXqNcmpu2"
      },
      "execution_count": null,
      "outputs": []
    },
    {
      "cell_type": "code",
      "execution_count": null,
      "metadata": {
        "id": "b287a8e2-c1a6-43c7-849c-67e35774e1ee"
      },
      "outputs": [],
      "source": [
        "train = pd.read_csv('/content/drive/MyDrive/Course Work/msc_training_dataset.csv')\n",
        "test = pd.read_csv('/content/drive/MyDrive/Course Work/msc_testing_dataset.csv')\n"
      ]
    },
    {
      "cell_type": "code",
      "source": [
        "train.head()"
      ],
      "metadata": {
        "colab": {
          "base_uri": "https://localhost:8080/",
          "height": 206
        },
        "id": "JZWYRjd4PTIu",
        "outputId": "d3fd9997-5f40-4040-924e-ce8840087926"
      },
      "execution_count": null,
      "outputs": [
        {
          "output_type": "execute_result",
          "data": {
            "text/plain": [
              "   room  bathroom  kitchen  french_door  backyard  furnished  green_paint  \\\n",
              "0     3         1        2            1         1          0            1   \n",
              "1     5         2        2            2         1          0            0   \n",
              "2     5         2        2            2         1          0            0   \n",
              "3     1         2        1            2         0          0            0   \n",
              "4     2         1        2            3         1          1            0   \n",
              "\n",
              "   solar_power  woodfloor  qlm_security  club_access  price  \n",
              "0            0          0             1            1   6835  \n",
              "1            0          0             1            1   9005  \n",
              "2            0          0             1            1   9005  \n",
              "3            0          1             1            0   5105  \n",
              "4            0          1             1            0   9105  "
            ],
            "text/html": [
              "\n",
              "  <div id=\"df-8de9fa8c-f01d-4316-b0e6-7056f765696b\">\n",
              "    <div class=\"colab-df-container\">\n",
              "      <div>\n",
              "<style scoped>\n",
              "    .dataframe tbody tr th:only-of-type {\n",
              "        vertical-align: middle;\n",
              "    }\n",
              "\n",
              "    .dataframe tbody tr th {\n",
              "        vertical-align: top;\n",
              "    }\n",
              "\n",
              "    .dataframe thead th {\n",
              "        text-align: right;\n",
              "    }\n",
              "</style>\n",
              "<table border=\"1\" class=\"dataframe\">\n",
              "  <thead>\n",
              "    <tr style=\"text-align: right;\">\n",
              "      <th></th>\n",
              "      <th>room</th>\n",
              "      <th>bathroom</th>\n",
              "      <th>kitchen</th>\n",
              "      <th>french_door</th>\n",
              "      <th>backyard</th>\n",
              "      <th>furnished</th>\n",
              "      <th>green_paint</th>\n",
              "      <th>solar_power</th>\n",
              "      <th>woodfloor</th>\n",
              "      <th>qlm_security</th>\n",
              "      <th>club_access</th>\n",
              "      <th>price</th>\n",
              "    </tr>\n",
              "  </thead>\n",
              "  <tbody>\n",
              "    <tr>\n",
              "      <th>0</th>\n",
              "      <td>3</td>\n",
              "      <td>1</td>\n",
              "      <td>2</td>\n",
              "      <td>1</td>\n",
              "      <td>1</td>\n",
              "      <td>0</td>\n",
              "      <td>1</td>\n",
              "      <td>0</td>\n",
              "      <td>0</td>\n",
              "      <td>1</td>\n",
              "      <td>1</td>\n",
              "      <td>6835</td>\n",
              "    </tr>\n",
              "    <tr>\n",
              "      <th>1</th>\n",
              "      <td>5</td>\n",
              "      <td>2</td>\n",
              "      <td>2</td>\n",
              "      <td>2</td>\n",
              "      <td>1</td>\n",
              "      <td>0</td>\n",
              "      <td>0</td>\n",
              "      <td>0</td>\n",
              "      <td>0</td>\n",
              "      <td>1</td>\n",
              "      <td>1</td>\n",
              "      <td>9005</td>\n",
              "    </tr>\n",
              "    <tr>\n",
              "      <th>2</th>\n",
              "      <td>5</td>\n",
              "      <td>2</td>\n",
              "      <td>2</td>\n",
              "      <td>2</td>\n",
              "      <td>1</td>\n",
              "      <td>0</td>\n",
              "      <td>0</td>\n",
              "      <td>0</td>\n",
              "      <td>0</td>\n",
              "      <td>1</td>\n",
              "      <td>1</td>\n",
              "      <td>9005</td>\n",
              "    </tr>\n",
              "    <tr>\n",
              "      <th>3</th>\n",
              "      <td>1</td>\n",
              "      <td>2</td>\n",
              "      <td>1</td>\n",
              "      <td>2</td>\n",
              "      <td>0</td>\n",
              "      <td>0</td>\n",
              "      <td>0</td>\n",
              "      <td>0</td>\n",
              "      <td>1</td>\n",
              "      <td>1</td>\n",
              "      <td>0</td>\n",
              "      <td>5105</td>\n",
              "    </tr>\n",
              "    <tr>\n",
              "      <th>4</th>\n",
              "      <td>2</td>\n",
              "      <td>1</td>\n",
              "      <td>2</td>\n",
              "      <td>3</td>\n",
              "      <td>1</td>\n",
              "      <td>1</td>\n",
              "      <td>0</td>\n",
              "      <td>0</td>\n",
              "      <td>1</td>\n",
              "      <td>1</td>\n",
              "      <td>0</td>\n",
              "      <td>9105</td>\n",
              "    </tr>\n",
              "  </tbody>\n",
              "</table>\n",
              "</div>\n",
              "      <button class=\"colab-df-convert\" onclick=\"convertToInteractive('df-8de9fa8c-f01d-4316-b0e6-7056f765696b')\"\n",
              "              title=\"Convert this dataframe to an interactive table.\"\n",
              "              style=\"display:none;\">\n",
              "        \n",
              "  <svg xmlns=\"http://www.w3.org/2000/svg\" height=\"24px\"viewBox=\"0 0 24 24\"\n",
              "       width=\"24px\">\n",
              "    <path d=\"M0 0h24v24H0V0z\" fill=\"none\"/>\n",
              "    <path d=\"M18.56 5.44l.94 2.06.94-2.06 2.06-.94-2.06-.94-.94-2.06-.94 2.06-2.06.94zm-11 1L8.5 8.5l.94-2.06 2.06-.94-2.06-.94L8.5 2.5l-.94 2.06-2.06.94zm10 10l.94 2.06.94-2.06 2.06-.94-2.06-.94-.94-2.06-.94 2.06-2.06.94z\"/><path d=\"M17.41 7.96l-1.37-1.37c-.4-.4-.92-.59-1.43-.59-.52 0-1.04.2-1.43.59L10.3 9.45l-7.72 7.72c-.78.78-.78 2.05 0 2.83L4 21.41c.39.39.9.59 1.41.59.51 0 1.02-.2 1.41-.59l7.78-7.78 2.81-2.81c.8-.78.8-2.07 0-2.86zM5.41 20L4 18.59l7.72-7.72 1.47 1.35L5.41 20z\"/>\n",
              "  </svg>\n",
              "      </button>\n",
              "      \n",
              "  <style>\n",
              "    .colab-df-container {\n",
              "      display:flex;\n",
              "      flex-wrap:wrap;\n",
              "      gap: 12px;\n",
              "    }\n",
              "\n",
              "    .colab-df-convert {\n",
              "      background-color: #E8F0FE;\n",
              "      border: none;\n",
              "      border-radius: 50%;\n",
              "      cursor: pointer;\n",
              "      display: none;\n",
              "      fill: #1967D2;\n",
              "      height: 32px;\n",
              "      padding: 0 0 0 0;\n",
              "      width: 32px;\n",
              "    }\n",
              "\n",
              "    .colab-df-convert:hover {\n",
              "      background-color: #E2EBFA;\n",
              "      box-shadow: 0px 1px 2px rgba(60, 64, 67, 0.3), 0px 1px 3px 1px rgba(60, 64, 67, 0.15);\n",
              "      fill: #174EA6;\n",
              "    }\n",
              "\n",
              "    [theme=dark] .colab-df-convert {\n",
              "      background-color: #3B4455;\n",
              "      fill: #D2E3FC;\n",
              "    }\n",
              "\n",
              "    [theme=dark] .colab-df-convert:hover {\n",
              "      background-color: #434B5C;\n",
              "      box-shadow: 0px 1px 3px 1px rgba(0, 0, 0, 0.15);\n",
              "      filter: drop-shadow(0px 1px 2px rgba(0, 0, 0, 0.3));\n",
              "      fill: #FFFFFF;\n",
              "    }\n",
              "  </style>\n",
              "\n",
              "      <script>\n",
              "        const buttonEl =\n",
              "          document.querySelector('#df-8de9fa8c-f01d-4316-b0e6-7056f765696b button.colab-df-convert');\n",
              "        buttonEl.style.display =\n",
              "          google.colab.kernel.accessAllowed ? 'block' : 'none';\n",
              "\n",
              "        async function convertToInteractive(key) {\n",
              "          const element = document.querySelector('#df-8de9fa8c-f01d-4316-b0e6-7056f765696b');\n",
              "          const dataTable =\n",
              "            await google.colab.kernel.invokeFunction('convertToInteractive',\n",
              "                                                     [key], {});\n",
              "          if (!dataTable) return;\n",
              "\n",
              "          const docLinkHtml = 'Like what you see? Visit the ' +\n",
              "            '<a target=\"_blank\" href=https://colab.research.google.com/notebooks/data_table.ipynb>data table notebook</a>'\n",
              "            + ' to learn more about interactive tables.';\n",
              "          element.innerHTML = '';\n",
              "          dataTable['output_type'] = 'display_data';\n",
              "          await google.colab.output.renderOutput(dataTable, element);\n",
              "          const docLink = document.createElement('div');\n",
              "          docLink.innerHTML = docLinkHtml;\n",
              "          element.appendChild(docLink);\n",
              "        }\n",
              "      </script>\n",
              "    </div>\n",
              "  </div>\n",
              "  "
            ]
          },
          "metadata": {},
          "execution_count": 5
        }
      ]
    },
    {
      "cell_type": "code",
      "source": [
        "test.head()\n"
      ],
      "metadata": {
        "colab": {
          "base_uri": "https://localhost:8080/",
          "height": 206
        },
        "id": "vvNgditQPvH_",
        "outputId": "5cec83b8-110c-4e70-e9d4-521514b1c5bf"
      },
      "execution_count": null,
      "outputs": [
        {
          "output_type": "execute_result",
          "data": {
            "text/plain": [
              "   room  bathroom  kitchen  french_door  backyard  furnished  green_paint  \\\n",
              "0     1         1        1            3         0          0            1   \n",
              "1     5         1        1            2         0          0            0   \n",
              "2     5         1        1            3         0          0            0   \n",
              "3     4         2        2            1         0          1            1   \n",
              "4     5         2        1            1         0          1            1   \n",
              "\n",
              "   solar_power  woodfloor  qlm_security  club_access  price  \n",
              "0            1          0             1            0   5068  \n",
              "1            0          0             1            1   7658  \n",
              "2            1          1             1            1  11318  \n",
              "3            0          0             1            0   8858  \n",
              "4            1          0             0            1  11178  "
            ],
            "text/html": [
              "\n",
              "  <div id=\"df-8fdf9643-02c0-4786-9367-cf97186a27c7\">\n",
              "    <div class=\"colab-df-container\">\n",
              "      <div>\n",
              "<style scoped>\n",
              "    .dataframe tbody tr th:only-of-type {\n",
              "        vertical-align: middle;\n",
              "    }\n",
              "\n",
              "    .dataframe tbody tr th {\n",
              "        vertical-align: top;\n",
              "    }\n",
              "\n",
              "    .dataframe thead th {\n",
              "        text-align: right;\n",
              "    }\n",
              "</style>\n",
              "<table border=\"1\" class=\"dataframe\">\n",
              "  <thead>\n",
              "    <tr style=\"text-align: right;\">\n",
              "      <th></th>\n",
              "      <th>room</th>\n",
              "      <th>bathroom</th>\n",
              "      <th>kitchen</th>\n",
              "      <th>french_door</th>\n",
              "      <th>backyard</th>\n",
              "      <th>furnished</th>\n",
              "      <th>green_paint</th>\n",
              "      <th>solar_power</th>\n",
              "      <th>woodfloor</th>\n",
              "      <th>qlm_security</th>\n",
              "      <th>club_access</th>\n",
              "      <th>price</th>\n",
              "    </tr>\n",
              "  </thead>\n",
              "  <tbody>\n",
              "    <tr>\n",
              "      <th>0</th>\n",
              "      <td>1</td>\n",
              "      <td>1</td>\n",
              "      <td>1</td>\n",
              "      <td>3</td>\n",
              "      <td>0</td>\n",
              "      <td>0</td>\n",
              "      <td>1</td>\n",
              "      <td>1</td>\n",
              "      <td>0</td>\n",
              "      <td>1</td>\n",
              "      <td>0</td>\n",
              "      <td>5068</td>\n",
              "    </tr>\n",
              "    <tr>\n",
              "      <th>1</th>\n",
              "      <td>5</td>\n",
              "      <td>1</td>\n",
              "      <td>1</td>\n",
              "      <td>2</td>\n",
              "      <td>0</td>\n",
              "      <td>0</td>\n",
              "      <td>0</td>\n",
              "      <td>0</td>\n",
              "      <td>0</td>\n",
              "      <td>1</td>\n",
              "      <td>1</td>\n",
              "      <td>7658</td>\n",
              "    </tr>\n",
              "    <tr>\n",
              "      <th>2</th>\n",
              "      <td>5</td>\n",
              "      <td>1</td>\n",
              "      <td>1</td>\n",
              "      <td>3</td>\n",
              "      <td>0</td>\n",
              "      <td>0</td>\n",
              "      <td>0</td>\n",
              "      <td>1</td>\n",
              "      <td>1</td>\n",
              "      <td>1</td>\n",
              "      <td>1</td>\n",
              "      <td>11318</td>\n",
              "    </tr>\n",
              "    <tr>\n",
              "      <th>3</th>\n",
              "      <td>4</td>\n",
              "      <td>2</td>\n",
              "      <td>2</td>\n",
              "      <td>1</td>\n",
              "      <td>0</td>\n",
              "      <td>1</td>\n",
              "      <td>1</td>\n",
              "      <td>0</td>\n",
              "      <td>0</td>\n",
              "      <td>1</td>\n",
              "      <td>0</td>\n",
              "      <td>8858</td>\n",
              "    </tr>\n",
              "    <tr>\n",
              "      <th>4</th>\n",
              "      <td>5</td>\n",
              "      <td>2</td>\n",
              "      <td>1</td>\n",
              "      <td>1</td>\n",
              "      <td>0</td>\n",
              "      <td>1</td>\n",
              "      <td>1</td>\n",
              "      <td>1</td>\n",
              "      <td>0</td>\n",
              "      <td>0</td>\n",
              "      <td>1</td>\n",
              "      <td>11178</td>\n",
              "    </tr>\n",
              "  </tbody>\n",
              "</table>\n",
              "</div>\n",
              "      <button class=\"colab-df-convert\" onclick=\"convertToInteractive('df-8fdf9643-02c0-4786-9367-cf97186a27c7')\"\n",
              "              title=\"Convert this dataframe to an interactive table.\"\n",
              "              style=\"display:none;\">\n",
              "        \n",
              "  <svg xmlns=\"http://www.w3.org/2000/svg\" height=\"24px\"viewBox=\"0 0 24 24\"\n",
              "       width=\"24px\">\n",
              "    <path d=\"M0 0h24v24H0V0z\" fill=\"none\"/>\n",
              "    <path d=\"M18.56 5.44l.94 2.06.94-2.06 2.06-.94-2.06-.94-.94-2.06-.94 2.06-2.06.94zm-11 1L8.5 8.5l.94-2.06 2.06-.94-2.06-.94L8.5 2.5l-.94 2.06-2.06.94zm10 10l.94 2.06.94-2.06 2.06-.94-2.06-.94-.94-2.06-.94 2.06-2.06.94z\"/><path d=\"M17.41 7.96l-1.37-1.37c-.4-.4-.92-.59-1.43-.59-.52 0-1.04.2-1.43.59L10.3 9.45l-7.72 7.72c-.78.78-.78 2.05 0 2.83L4 21.41c.39.39.9.59 1.41.59.51 0 1.02-.2 1.41-.59l7.78-7.78 2.81-2.81c.8-.78.8-2.07 0-2.86zM5.41 20L4 18.59l7.72-7.72 1.47 1.35L5.41 20z\"/>\n",
              "  </svg>\n",
              "      </button>\n",
              "      \n",
              "  <style>\n",
              "    .colab-df-container {\n",
              "      display:flex;\n",
              "      flex-wrap:wrap;\n",
              "      gap: 12px;\n",
              "    }\n",
              "\n",
              "    .colab-df-convert {\n",
              "      background-color: #E8F0FE;\n",
              "      border: none;\n",
              "      border-radius: 50%;\n",
              "      cursor: pointer;\n",
              "      display: none;\n",
              "      fill: #1967D2;\n",
              "      height: 32px;\n",
              "      padding: 0 0 0 0;\n",
              "      width: 32px;\n",
              "    }\n",
              "\n",
              "    .colab-df-convert:hover {\n",
              "      background-color: #E2EBFA;\n",
              "      box-shadow: 0px 1px 2px rgba(60, 64, 67, 0.3), 0px 1px 3px 1px rgba(60, 64, 67, 0.15);\n",
              "      fill: #174EA6;\n",
              "    }\n",
              "\n",
              "    [theme=dark] .colab-df-convert {\n",
              "      background-color: #3B4455;\n",
              "      fill: #D2E3FC;\n",
              "    }\n",
              "\n",
              "    [theme=dark] .colab-df-convert:hover {\n",
              "      background-color: #434B5C;\n",
              "      box-shadow: 0px 1px 3px 1px rgba(0, 0, 0, 0.15);\n",
              "      filter: drop-shadow(0px 1px 2px rgba(0, 0, 0, 0.3));\n",
              "      fill: #FFFFFF;\n",
              "    }\n",
              "  </style>\n",
              "\n",
              "      <script>\n",
              "        const buttonEl =\n",
              "          document.querySelector('#df-8fdf9643-02c0-4786-9367-cf97186a27c7 button.colab-df-convert');\n",
              "        buttonEl.style.display =\n",
              "          google.colab.kernel.accessAllowed ? 'block' : 'none';\n",
              "\n",
              "        async function convertToInteractive(key) {\n",
              "          const element = document.querySelector('#df-8fdf9643-02c0-4786-9367-cf97186a27c7');\n",
              "          const dataTable =\n",
              "            await google.colab.kernel.invokeFunction('convertToInteractive',\n",
              "                                                     [key], {});\n",
              "          if (!dataTable) return;\n",
              "\n",
              "          const docLinkHtml = 'Like what you see? Visit the ' +\n",
              "            '<a target=\"_blank\" href=https://colab.research.google.com/notebooks/data_table.ipynb>data table notebook</a>'\n",
              "            + ' to learn more about interactive tables.';\n",
              "          element.innerHTML = '';\n",
              "          dataTable['output_type'] = 'display_data';\n",
              "          await google.colab.output.renderOutput(dataTable, element);\n",
              "          const docLink = document.createElement('div');\n",
              "          docLink.innerHTML = docLinkHtml;\n",
              "          element.appendChild(docLink);\n",
              "        }\n",
              "      </script>\n",
              "    </div>\n",
              "  </div>\n",
              "  "
            ]
          },
          "metadata": {},
          "execution_count": 6
        }
      ]
    },
    {
      "cell_type": "code",
      "source": [
        "train.describe()"
      ],
      "metadata": {
        "colab": {
          "base_uri": "https://localhost:8080/",
          "height": 344
        },
        "id": "jkw5TWlNP6VD",
        "outputId": "6ab4f4e6-5274-4151-c017-8b50496ba10b"
      },
      "execution_count": null,
      "outputs": [
        {
          "output_type": "execute_result",
          "data": {
            "text/plain": [
              "              room     bathroom      kitchen  french_door     backyard  \\\n",
              "count  3000.000000  3000.000000  3000.000000  3000.000000  3000.000000   \n",
              "mean      2.990000     1.489000     1.522000     1.998333     0.490333   \n",
              "std       1.424281     0.499962     0.499599     0.813153     0.499990   \n",
              "min       1.000000     1.000000     1.000000     1.000000     0.000000   \n",
              "25%       2.000000     1.000000     1.000000     1.000000     0.000000   \n",
              "50%       3.000000     1.000000     2.000000     2.000000     0.000000   \n",
              "75%       4.000000     2.000000     2.000000     3.000000     1.000000   \n",
              "max       5.000000     2.000000     2.000000     3.000000     1.000000   \n",
              "\n",
              "         furnished  green_paint  solar_power    woodfloor  qlm_security  \\\n",
              "count  3000.000000  3000.000000  3000.000000  3000.000000   3000.000000   \n",
              "mean      0.488667     0.485000     0.495667     0.512333      0.480667   \n",
              "std       0.499955     0.499858     0.500065     0.499931      0.499709   \n",
              "min       0.000000     0.000000     0.000000     0.000000      0.000000   \n",
              "25%       0.000000     0.000000     0.000000     0.000000      0.000000   \n",
              "50%       0.000000     0.000000     0.000000     1.000000      0.000000   \n",
              "75%       1.000000     1.000000     1.000000     1.000000      1.000000   \n",
              "max       1.000000     1.000000     1.000000     1.000000      1.000000   \n",
              "\n",
              "       club_access         price  \n",
              "count  3000.000000   3000.000000  \n",
              "mean      0.499667   8606.600000  \n",
              "std       0.500083   2216.248563  \n",
              "min       0.000000   2235.000000  \n",
              "25%       0.000000   7005.000000  \n",
              "50%       0.000000   8615.000000  \n",
              "75%       1.000000  10215.000000  \n",
              "max       1.000000  15035.000000  "
            ],
            "text/html": [
              "\n",
              "  <div id=\"df-aabb78e8-dc1c-4b42-b28d-efa042c18328\">\n",
              "    <div class=\"colab-df-container\">\n",
              "      <div>\n",
              "<style scoped>\n",
              "    .dataframe tbody tr th:only-of-type {\n",
              "        vertical-align: middle;\n",
              "    }\n",
              "\n",
              "    .dataframe tbody tr th {\n",
              "        vertical-align: top;\n",
              "    }\n",
              "\n",
              "    .dataframe thead th {\n",
              "        text-align: right;\n",
              "    }\n",
              "</style>\n",
              "<table border=\"1\" class=\"dataframe\">\n",
              "  <thead>\n",
              "    <tr style=\"text-align: right;\">\n",
              "      <th></th>\n",
              "      <th>room</th>\n",
              "      <th>bathroom</th>\n",
              "      <th>kitchen</th>\n",
              "      <th>french_door</th>\n",
              "      <th>backyard</th>\n",
              "      <th>furnished</th>\n",
              "      <th>green_paint</th>\n",
              "      <th>solar_power</th>\n",
              "      <th>woodfloor</th>\n",
              "      <th>qlm_security</th>\n",
              "      <th>club_access</th>\n",
              "      <th>price</th>\n",
              "    </tr>\n",
              "  </thead>\n",
              "  <tbody>\n",
              "    <tr>\n",
              "      <th>count</th>\n",
              "      <td>3000.000000</td>\n",
              "      <td>3000.000000</td>\n",
              "      <td>3000.000000</td>\n",
              "      <td>3000.000000</td>\n",
              "      <td>3000.000000</td>\n",
              "      <td>3000.000000</td>\n",
              "      <td>3000.000000</td>\n",
              "      <td>3000.000000</td>\n",
              "      <td>3000.000000</td>\n",
              "      <td>3000.000000</td>\n",
              "      <td>3000.000000</td>\n",
              "      <td>3000.000000</td>\n",
              "    </tr>\n",
              "    <tr>\n",
              "      <th>mean</th>\n",
              "      <td>2.990000</td>\n",
              "      <td>1.489000</td>\n",
              "      <td>1.522000</td>\n",
              "      <td>1.998333</td>\n",
              "      <td>0.490333</td>\n",
              "      <td>0.488667</td>\n",
              "      <td>0.485000</td>\n",
              "      <td>0.495667</td>\n",
              "      <td>0.512333</td>\n",
              "      <td>0.480667</td>\n",
              "      <td>0.499667</td>\n",
              "      <td>8606.600000</td>\n",
              "    </tr>\n",
              "    <tr>\n",
              "      <th>std</th>\n",
              "      <td>1.424281</td>\n",
              "      <td>0.499962</td>\n",
              "      <td>0.499599</td>\n",
              "      <td>0.813153</td>\n",
              "      <td>0.499990</td>\n",
              "      <td>0.499955</td>\n",
              "      <td>0.499858</td>\n",
              "      <td>0.500065</td>\n",
              "      <td>0.499931</td>\n",
              "      <td>0.499709</td>\n",
              "      <td>0.500083</td>\n",
              "      <td>2216.248563</td>\n",
              "    </tr>\n",
              "    <tr>\n",
              "      <th>min</th>\n",
              "      <td>1.000000</td>\n",
              "      <td>1.000000</td>\n",
              "      <td>1.000000</td>\n",
              "      <td>1.000000</td>\n",
              "      <td>0.000000</td>\n",
              "      <td>0.000000</td>\n",
              "      <td>0.000000</td>\n",
              "      <td>0.000000</td>\n",
              "      <td>0.000000</td>\n",
              "      <td>0.000000</td>\n",
              "      <td>0.000000</td>\n",
              "      <td>2235.000000</td>\n",
              "    </tr>\n",
              "    <tr>\n",
              "      <th>25%</th>\n",
              "      <td>2.000000</td>\n",
              "      <td>1.000000</td>\n",
              "      <td>1.000000</td>\n",
              "      <td>1.000000</td>\n",
              "      <td>0.000000</td>\n",
              "      <td>0.000000</td>\n",
              "      <td>0.000000</td>\n",
              "      <td>0.000000</td>\n",
              "      <td>0.000000</td>\n",
              "      <td>0.000000</td>\n",
              "      <td>0.000000</td>\n",
              "      <td>7005.000000</td>\n",
              "    </tr>\n",
              "    <tr>\n",
              "      <th>50%</th>\n",
              "      <td>3.000000</td>\n",
              "      <td>1.000000</td>\n",
              "      <td>2.000000</td>\n",
              "      <td>2.000000</td>\n",
              "      <td>0.000000</td>\n",
              "      <td>0.000000</td>\n",
              "      <td>0.000000</td>\n",
              "      <td>0.000000</td>\n",
              "      <td>1.000000</td>\n",
              "      <td>0.000000</td>\n",
              "      <td>0.000000</td>\n",
              "      <td>8615.000000</td>\n",
              "    </tr>\n",
              "    <tr>\n",
              "      <th>75%</th>\n",
              "      <td>4.000000</td>\n",
              "      <td>2.000000</td>\n",
              "      <td>2.000000</td>\n",
              "      <td>3.000000</td>\n",
              "      <td>1.000000</td>\n",
              "      <td>1.000000</td>\n",
              "      <td>1.000000</td>\n",
              "      <td>1.000000</td>\n",
              "      <td>1.000000</td>\n",
              "      <td>1.000000</td>\n",
              "      <td>1.000000</td>\n",
              "      <td>10215.000000</td>\n",
              "    </tr>\n",
              "    <tr>\n",
              "      <th>max</th>\n",
              "      <td>5.000000</td>\n",
              "      <td>2.000000</td>\n",
              "      <td>2.000000</td>\n",
              "      <td>3.000000</td>\n",
              "      <td>1.000000</td>\n",
              "      <td>1.000000</td>\n",
              "      <td>1.000000</td>\n",
              "      <td>1.000000</td>\n",
              "      <td>1.000000</td>\n",
              "      <td>1.000000</td>\n",
              "      <td>1.000000</td>\n",
              "      <td>15035.000000</td>\n",
              "    </tr>\n",
              "  </tbody>\n",
              "</table>\n",
              "</div>\n",
              "      <button class=\"colab-df-convert\" onclick=\"convertToInteractive('df-aabb78e8-dc1c-4b42-b28d-efa042c18328')\"\n",
              "              title=\"Convert this dataframe to an interactive table.\"\n",
              "              style=\"display:none;\">\n",
              "        \n",
              "  <svg xmlns=\"http://www.w3.org/2000/svg\" height=\"24px\"viewBox=\"0 0 24 24\"\n",
              "       width=\"24px\">\n",
              "    <path d=\"M0 0h24v24H0V0z\" fill=\"none\"/>\n",
              "    <path d=\"M18.56 5.44l.94 2.06.94-2.06 2.06-.94-2.06-.94-.94-2.06-.94 2.06-2.06.94zm-11 1L8.5 8.5l.94-2.06 2.06-.94-2.06-.94L8.5 2.5l-.94 2.06-2.06.94zm10 10l.94 2.06.94-2.06 2.06-.94-2.06-.94-.94-2.06-.94 2.06-2.06.94z\"/><path d=\"M17.41 7.96l-1.37-1.37c-.4-.4-.92-.59-1.43-.59-.52 0-1.04.2-1.43.59L10.3 9.45l-7.72 7.72c-.78.78-.78 2.05 0 2.83L4 21.41c.39.39.9.59 1.41.59.51 0 1.02-.2 1.41-.59l7.78-7.78 2.81-2.81c.8-.78.8-2.07 0-2.86zM5.41 20L4 18.59l7.72-7.72 1.47 1.35L5.41 20z\"/>\n",
              "  </svg>\n",
              "      </button>\n",
              "      \n",
              "  <style>\n",
              "    .colab-df-container {\n",
              "      display:flex;\n",
              "      flex-wrap:wrap;\n",
              "      gap: 12px;\n",
              "    }\n",
              "\n",
              "    .colab-df-convert {\n",
              "      background-color: #E8F0FE;\n",
              "      border: none;\n",
              "      border-radius: 50%;\n",
              "      cursor: pointer;\n",
              "      display: none;\n",
              "      fill: #1967D2;\n",
              "      height: 32px;\n",
              "      padding: 0 0 0 0;\n",
              "      width: 32px;\n",
              "    }\n",
              "\n",
              "    .colab-df-convert:hover {\n",
              "      background-color: #E2EBFA;\n",
              "      box-shadow: 0px 1px 2px rgba(60, 64, 67, 0.3), 0px 1px 3px 1px rgba(60, 64, 67, 0.15);\n",
              "      fill: #174EA6;\n",
              "    }\n",
              "\n",
              "    [theme=dark] .colab-df-convert {\n",
              "      background-color: #3B4455;\n",
              "      fill: #D2E3FC;\n",
              "    }\n",
              "\n",
              "    [theme=dark] .colab-df-convert:hover {\n",
              "      background-color: #434B5C;\n",
              "      box-shadow: 0px 1px 3px 1px rgba(0, 0, 0, 0.15);\n",
              "      filter: drop-shadow(0px 1px 2px rgba(0, 0, 0, 0.3));\n",
              "      fill: #FFFFFF;\n",
              "    }\n",
              "  </style>\n",
              "\n",
              "      <script>\n",
              "        const buttonEl =\n",
              "          document.querySelector('#df-aabb78e8-dc1c-4b42-b28d-efa042c18328 button.colab-df-convert');\n",
              "        buttonEl.style.display =\n",
              "          google.colab.kernel.accessAllowed ? 'block' : 'none';\n",
              "\n",
              "        async function convertToInteractive(key) {\n",
              "          const element = document.querySelector('#df-aabb78e8-dc1c-4b42-b28d-efa042c18328');\n",
              "          const dataTable =\n",
              "            await google.colab.kernel.invokeFunction('convertToInteractive',\n",
              "                                                     [key], {});\n",
              "          if (!dataTable) return;\n",
              "\n",
              "          const docLinkHtml = 'Like what you see? Visit the ' +\n",
              "            '<a target=\"_blank\" href=https://colab.research.google.com/notebooks/data_table.ipynb>data table notebook</a>'\n",
              "            + ' to learn more about interactive tables.';\n",
              "          element.innerHTML = '';\n",
              "          dataTable['output_type'] = 'display_data';\n",
              "          await google.colab.output.renderOutput(dataTable, element);\n",
              "          const docLink = document.createElement('div');\n",
              "          docLink.innerHTML = docLinkHtml;\n",
              "          element.appendChild(docLink);\n",
              "        }\n",
              "      </script>\n",
              "    </div>\n",
              "  </div>\n",
              "  "
            ]
          },
          "metadata": {},
          "execution_count": 7
        }
      ]
    },
    {
      "cell_type": "code",
      "source": [
        "train.info()"
      ],
      "metadata": {
        "colab": {
          "base_uri": "https://localhost:8080/"
        },
        "id": "hQlsbFPGQbZ4",
        "outputId": "d29a1574-487f-4558-ef53-d54f598f4799"
      },
      "execution_count": null,
      "outputs": [
        {
          "output_type": "stream",
          "name": "stdout",
          "text": [
            "<class 'pandas.core.frame.DataFrame'>\n",
            "RangeIndex: 3000 entries, 0 to 2999\n",
            "Data columns (total 12 columns):\n",
            " #   Column        Non-Null Count  Dtype\n",
            "---  ------        --------------  -----\n",
            " 0   room          3000 non-null   int64\n",
            " 1   bathroom      3000 non-null   int64\n",
            " 2   kitchen       3000 non-null   int64\n",
            " 3   french_door   3000 non-null   int64\n",
            " 4   backyard      3000 non-null   int64\n",
            " 5   furnished     3000 non-null   int64\n",
            " 6   green_paint   3000 non-null   int64\n",
            " 7   solar_power   3000 non-null   int64\n",
            " 8   woodfloor     3000 non-null   int64\n",
            " 9   qlm_security  3000 non-null   int64\n",
            " 10  club_access   3000 non-null   int64\n",
            " 11  price         3000 non-null   int64\n",
            "dtypes: int64(12)\n",
            "memory usage: 281.4 KB\n"
          ]
        }
      ]
    },
    {
      "cell_type": "code",
      "source": [
        "test.describe()"
      ],
      "metadata": {
        "colab": {
          "base_uri": "https://localhost:8080/",
          "height": 300
        },
        "id": "tIBtDkH4QM-f",
        "outputId": "fc6a8be0-34f7-4f0a-f13f-5fe33e612c3a"
      },
      "execution_count": null,
      "outputs": [
        {
          "output_type": "execute_result",
          "data": {
            "text/plain": [
              "             room    bathroom     kitchen  french_door    backyard  \\\n",
              "count  999.000000  999.000000  999.000000   999.000000  999.000000   \n",
              "mean     3.019019    1.491491    1.496496     1.959960    0.510511   \n",
              "std      1.413731    0.500178    0.500238     0.809759    0.500140   \n",
              "min      1.000000    1.000000    1.000000     1.000000    0.000000   \n",
              "25%      2.000000    1.000000    1.000000     1.000000    0.000000   \n",
              "50%      3.000000    1.000000    1.000000     2.000000    1.000000   \n",
              "75%      4.000000    2.000000    2.000000     3.000000    1.000000   \n",
              "max      5.000000    2.000000    2.000000     3.000000    1.000000   \n",
              "\n",
              "        furnished  green_paint  solar_power   woodfloor  qlm_security  \\\n",
              "count  999.000000   999.000000    999.00000  999.000000    999.000000   \n",
              "mean     0.474474     0.523524      0.49049    0.501502      0.500501   \n",
              "std      0.499598     0.499696      0.50016    0.500248      0.500250   \n",
              "min      0.000000     0.000000      0.00000    0.000000      0.000000   \n",
              "25%      0.000000     0.000000      0.00000    0.000000      0.000000   \n",
              "50%      0.000000     1.000000      0.00000    1.000000      1.000000   \n",
              "75%      1.000000     1.000000      1.00000    1.000000      1.000000   \n",
              "max      1.000000     1.000000      1.00000    1.000000      1.000000   \n",
              "\n",
              "       club_access         price  \n",
              "count   999.000000    999.000000  \n",
              "mean      0.495495   8601.863864  \n",
              "std       0.500230   2217.898743  \n",
              "min       0.000000   2688.000000  \n",
              "25%       0.000000   7068.000000  \n",
              "50%       0.000000   8608.000000  \n",
              "75%       1.000000  10128.000000  \n",
              "max       1.000000  14318.000000  "
            ],
            "text/html": [
              "\n",
              "  <div id=\"df-7a4ab382-fb33-45ca-ae51-3be4d91b4671\">\n",
              "    <div class=\"colab-df-container\">\n",
              "      <div>\n",
              "<style scoped>\n",
              "    .dataframe tbody tr th:only-of-type {\n",
              "        vertical-align: middle;\n",
              "    }\n",
              "\n",
              "    .dataframe tbody tr th {\n",
              "        vertical-align: top;\n",
              "    }\n",
              "\n",
              "    .dataframe thead th {\n",
              "        text-align: right;\n",
              "    }\n",
              "</style>\n",
              "<table border=\"1\" class=\"dataframe\">\n",
              "  <thead>\n",
              "    <tr style=\"text-align: right;\">\n",
              "      <th></th>\n",
              "      <th>room</th>\n",
              "      <th>bathroom</th>\n",
              "      <th>kitchen</th>\n",
              "      <th>french_door</th>\n",
              "      <th>backyard</th>\n",
              "      <th>furnished</th>\n",
              "      <th>green_paint</th>\n",
              "      <th>solar_power</th>\n",
              "      <th>woodfloor</th>\n",
              "      <th>qlm_security</th>\n",
              "      <th>club_access</th>\n",
              "      <th>price</th>\n",
              "    </tr>\n",
              "  </thead>\n",
              "  <tbody>\n",
              "    <tr>\n",
              "      <th>count</th>\n",
              "      <td>999.000000</td>\n",
              "      <td>999.000000</td>\n",
              "      <td>999.000000</td>\n",
              "      <td>999.000000</td>\n",
              "      <td>999.000000</td>\n",
              "      <td>999.000000</td>\n",
              "      <td>999.000000</td>\n",
              "      <td>999.00000</td>\n",
              "      <td>999.000000</td>\n",
              "      <td>999.000000</td>\n",
              "      <td>999.000000</td>\n",
              "      <td>999.000000</td>\n",
              "    </tr>\n",
              "    <tr>\n",
              "      <th>mean</th>\n",
              "      <td>3.019019</td>\n",
              "      <td>1.491491</td>\n",
              "      <td>1.496496</td>\n",
              "      <td>1.959960</td>\n",
              "      <td>0.510511</td>\n",
              "      <td>0.474474</td>\n",
              "      <td>0.523524</td>\n",
              "      <td>0.49049</td>\n",
              "      <td>0.501502</td>\n",
              "      <td>0.500501</td>\n",
              "      <td>0.495495</td>\n",
              "      <td>8601.863864</td>\n",
              "    </tr>\n",
              "    <tr>\n",
              "      <th>std</th>\n",
              "      <td>1.413731</td>\n",
              "      <td>0.500178</td>\n",
              "      <td>0.500238</td>\n",
              "      <td>0.809759</td>\n",
              "      <td>0.500140</td>\n",
              "      <td>0.499598</td>\n",
              "      <td>0.499696</td>\n",
              "      <td>0.50016</td>\n",
              "      <td>0.500248</td>\n",
              "      <td>0.500250</td>\n",
              "      <td>0.500230</td>\n",
              "      <td>2217.898743</td>\n",
              "    </tr>\n",
              "    <tr>\n",
              "      <th>min</th>\n",
              "      <td>1.000000</td>\n",
              "      <td>1.000000</td>\n",
              "      <td>1.000000</td>\n",
              "      <td>1.000000</td>\n",
              "      <td>0.000000</td>\n",
              "      <td>0.000000</td>\n",
              "      <td>0.000000</td>\n",
              "      <td>0.00000</td>\n",
              "      <td>0.000000</td>\n",
              "      <td>0.000000</td>\n",
              "      <td>0.000000</td>\n",
              "      <td>2688.000000</td>\n",
              "    </tr>\n",
              "    <tr>\n",
              "      <th>25%</th>\n",
              "      <td>2.000000</td>\n",
              "      <td>1.000000</td>\n",
              "      <td>1.000000</td>\n",
              "      <td>1.000000</td>\n",
              "      <td>0.000000</td>\n",
              "      <td>0.000000</td>\n",
              "      <td>0.000000</td>\n",
              "      <td>0.00000</td>\n",
              "      <td>0.000000</td>\n",
              "      <td>0.000000</td>\n",
              "      <td>0.000000</td>\n",
              "      <td>7068.000000</td>\n",
              "    </tr>\n",
              "    <tr>\n",
              "      <th>50%</th>\n",
              "      <td>3.000000</td>\n",
              "      <td>1.000000</td>\n",
              "      <td>1.000000</td>\n",
              "      <td>2.000000</td>\n",
              "      <td>1.000000</td>\n",
              "      <td>0.000000</td>\n",
              "      <td>1.000000</td>\n",
              "      <td>0.00000</td>\n",
              "      <td>1.000000</td>\n",
              "      <td>1.000000</td>\n",
              "      <td>0.000000</td>\n",
              "      <td>8608.000000</td>\n",
              "    </tr>\n",
              "    <tr>\n",
              "      <th>75%</th>\n",
              "      <td>4.000000</td>\n",
              "      <td>2.000000</td>\n",
              "      <td>2.000000</td>\n",
              "      <td>3.000000</td>\n",
              "      <td>1.000000</td>\n",
              "      <td>1.000000</td>\n",
              "      <td>1.000000</td>\n",
              "      <td>1.00000</td>\n",
              "      <td>1.000000</td>\n",
              "      <td>1.000000</td>\n",
              "      <td>1.000000</td>\n",
              "      <td>10128.000000</td>\n",
              "    </tr>\n",
              "    <tr>\n",
              "      <th>max</th>\n",
              "      <td>5.000000</td>\n",
              "      <td>2.000000</td>\n",
              "      <td>2.000000</td>\n",
              "      <td>3.000000</td>\n",
              "      <td>1.000000</td>\n",
              "      <td>1.000000</td>\n",
              "      <td>1.000000</td>\n",
              "      <td>1.00000</td>\n",
              "      <td>1.000000</td>\n",
              "      <td>1.000000</td>\n",
              "      <td>1.000000</td>\n",
              "      <td>14318.000000</td>\n",
              "    </tr>\n",
              "  </tbody>\n",
              "</table>\n",
              "</div>\n",
              "      <button class=\"colab-df-convert\" onclick=\"convertToInteractive('df-7a4ab382-fb33-45ca-ae51-3be4d91b4671')\"\n",
              "              title=\"Convert this dataframe to an interactive table.\"\n",
              "              style=\"display:none;\">\n",
              "        \n",
              "  <svg xmlns=\"http://www.w3.org/2000/svg\" height=\"24px\"viewBox=\"0 0 24 24\"\n",
              "       width=\"24px\">\n",
              "    <path d=\"M0 0h24v24H0V0z\" fill=\"none\"/>\n",
              "    <path d=\"M18.56 5.44l.94 2.06.94-2.06 2.06-.94-2.06-.94-.94-2.06-.94 2.06-2.06.94zm-11 1L8.5 8.5l.94-2.06 2.06-.94-2.06-.94L8.5 2.5l-.94 2.06-2.06.94zm10 10l.94 2.06.94-2.06 2.06-.94-2.06-.94-.94-2.06-.94 2.06-2.06.94z\"/><path d=\"M17.41 7.96l-1.37-1.37c-.4-.4-.92-.59-1.43-.59-.52 0-1.04.2-1.43.59L10.3 9.45l-7.72 7.72c-.78.78-.78 2.05 0 2.83L4 21.41c.39.39.9.59 1.41.59.51 0 1.02-.2 1.41-.59l7.78-7.78 2.81-2.81c.8-.78.8-2.07 0-2.86zM5.41 20L4 18.59l7.72-7.72 1.47 1.35L5.41 20z\"/>\n",
              "  </svg>\n",
              "      </button>\n",
              "      \n",
              "  <style>\n",
              "    .colab-df-container {\n",
              "      display:flex;\n",
              "      flex-wrap:wrap;\n",
              "      gap: 12px;\n",
              "    }\n",
              "\n",
              "    .colab-df-convert {\n",
              "      background-color: #E8F0FE;\n",
              "      border: none;\n",
              "      border-radius: 50%;\n",
              "      cursor: pointer;\n",
              "      display: none;\n",
              "      fill: #1967D2;\n",
              "      height: 32px;\n",
              "      padding: 0 0 0 0;\n",
              "      width: 32px;\n",
              "    }\n",
              "\n",
              "    .colab-df-convert:hover {\n",
              "      background-color: #E2EBFA;\n",
              "      box-shadow: 0px 1px 2px rgba(60, 64, 67, 0.3), 0px 1px 3px 1px rgba(60, 64, 67, 0.15);\n",
              "      fill: #174EA6;\n",
              "    }\n",
              "\n",
              "    [theme=dark] .colab-df-convert {\n",
              "      background-color: #3B4455;\n",
              "      fill: #D2E3FC;\n",
              "    }\n",
              "\n",
              "    [theme=dark] .colab-df-convert:hover {\n",
              "      background-color: #434B5C;\n",
              "      box-shadow: 0px 1px 3px 1px rgba(0, 0, 0, 0.15);\n",
              "      filter: drop-shadow(0px 1px 2px rgba(0, 0, 0, 0.3));\n",
              "      fill: #FFFFFF;\n",
              "    }\n",
              "  </style>\n",
              "\n",
              "      <script>\n",
              "        const buttonEl =\n",
              "          document.querySelector('#df-7a4ab382-fb33-45ca-ae51-3be4d91b4671 button.colab-df-convert');\n",
              "        buttonEl.style.display =\n",
              "          google.colab.kernel.accessAllowed ? 'block' : 'none';\n",
              "\n",
              "        async function convertToInteractive(key) {\n",
              "          const element = document.querySelector('#df-7a4ab382-fb33-45ca-ae51-3be4d91b4671');\n",
              "          const dataTable =\n",
              "            await google.colab.kernel.invokeFunction('convertToInteractive',\n",
              "                                                     [key], {});\n",
              "          if (!dataTable) return;\n",
              "\n",
              "          const docLinkHtml = 'Like what you see? Visit the ' +\n",
              "            '<a target=\"_blank\" href=https://colab.research.google.com/notebooks/data_table.ipynb>data table notebook</a>'\n",
              "            + ' to learn more about interactive tables.';\n",
              "          element.innerHTML = '';\n",
              "          dataTable['output_type'] = 'display_data';\n",
              "          await google.colab.output.renderOutput(dataTable, element);\n",
              "          const docLink = document.createElement('div');\n",
              "          docLink.innerHTML = docLinkHtml;\n",
              "          element.appendChild(docLink);\n",
              "        }\n",
              "      </script>\n",
              "    </div>\n",
              "  </div>\n",
              "  "
            ]
          },
          "metadata": {},
          "execution_count": 8
        }
      ]
    },
    {
      "cell_type": "code",
      "source": [
        "test.info()"
      ],
      "metadata": {
        "colab": {
          "base_uri": "https://localhost:8080/"
        },
        "id": "Z_ZUkaHhQpFI",
        "outputId": "eda752b5-0cb8-4401-94c4-66d3e2bf7db7"
      },
      "execution_count": null,
      "outputs": [
        {
          "output_type": "stream",
          "name": "stdout",
          "text": [
            "<class 'pandas.core.frame.DataFrame'>\n",
            "RangeIndex: 999 entries, 0 to 998\n",
            "Data columns (total 12 columns):\n",
            " #   Column        Non-Null Count  Dtype\n",
            "---  ------        --------------  -----\n",
            " 0   room          999 non-null    int64\n",
            " 1   bathroom      999 non-null    int64\n",
            " 2   kitchen       999 non-null    int64\n",
            " 3   french_door   999 non-null    int64\n",
            " 4   backyard      999 non-null    int64\n",
            " 5   furnished     999 non-null    int64\n",
            " 6   green_paint   999 non-null    int64\n",
            " 7   solar_power   999 non-null    int64\n",
            " 8   woodfloor     999 non-null    int64\n",
            " 9   qlm_security  999 non-null    int64\n",
            " 10  club_access   999 non-null    int64\n",
            " 11  price         999 non-null    int64\n",
            "dtypes: int64(12)\n",
            "memory usage: 93.8 KB\n"
          ]
        }
      ]
    },
    {
      "cell_type": "code",
      "execution_count": null,
      "metadata": {
        "id": "efbb7d11-7534-452c-9d78-26f9cca93df9"
      },
      "outputs": [],
      "source": [
        "train_X = train.drop('price', axis=1)\n",
        "test_X = test.drop('price', axis=1)\n",
        "train_Y = train['price']\n",
        "test_Y = test['price']"
      ]
    },
    {
      "cell_type": "code",
      "source": [
        "train_X.head()"
      ],
      "metadata": {
        "colab": {
          "base_uri": "https://localhost:8080/",
          "height": 206
        },
        "id": "tMb2tOKIR-Pq",
        "outputId": "68badd14-ab47-45ef-bf7e-516fc79f9857"
      },
      "execution_count": null,
      "outputs": [
        {
          "output_type": "execute_result",
          "data": {
            "text/plain": [
              "   room  bathroom  kitchen  french_door  backyard  furnished  green_paint  \\\n",
              "0     3         1        2            1         1          0            1   \n",
              "1     5         2        2            2         1          0            0   \n",
              "2     5         2        2            2         1          0            0   \n",
              "3     1         2        1            2         0          0            0   \n",
              "4     2         1        2            3         1          1            0   \n",
              "\n",
              "   solar_power  woodfloor  qlm_security  club_access  \n",
              "0            0          0             1            1  \n",
              "1            0          0             1            1  \n",
              "2            0          0             1            1  \n",
              "3            0          1             1            0  \n",
              "4            0          1             1            0  "
            ],
            "text/html": [
              "\n",
              "  <div id=\"df-fa836790-5e7e-486a-a18a-8cb83181aa62\">\n",
              "    <div class=\"colab-df-container\">\n",
              "      <div>\n",
              "<style scoped>\n",
              "    .dataframe tbody tr th:only-of-type {\n",
              "        vertical-align: middle;\n",
              "    }\n",
              "\n",
              "    .dataframe tbody tr th {\n",
              "        vertical-align: top;\n",
              "    }\n",
              "\n",
              "    .dataframe thead th {\n",
              "        text-align: right;\n",
              "    }\n",
              "</style>\n",
              "<table border=\"1\" class=\"dataframe\">\n",
              "  <thead>\n",
              "    <tr style=\"text-align: right;\">\n",
              "      <th></th>\n",
              "      <th>room</th>\n",
              "      <th>bathroom</th>\n",
              "      <th>kitchen</th>\n",
              "      <th>french_door</th>\n",
              "      <th>backyard</th>\n",
              "      <th>furnished</th>\n",
              "      <th>green_paint</th>\n",
              "      <th>solar_power</th>\n",
              "      <th>woodfloor</th>\n",
              "      <th>qlm_security</th>\n",
              "      <th>club_access</th>\n",
              "    </tr>\n",
              "  </thead>\n",
              "  <tbody>\n",
              "    <tr>\n",
              "      <th>0</th>\n",
              "      <td>3</td>\n",
              "      <td>1</td>\n",
              "      <td>2</td>\n",
              "      <td>1</td>\n",
              "      <td>1</td>\n",
              "      <td>0</td>\n",
              "      <td>1</td>\n",
              "      <td>0</td>\n",
              "      <td>0</td>\n",
              "      <td>1</td>\n",
              "      <td>1</td>\n",
              "    </tr>\n",
              "    <tr>\n",
              "      <th>1</th>\n",
              "      <td>5</td>\n",
              "      <td>2</td>\n",
              "      <td>2</td>\n",
              "      <td>2</td>\n",
              "      <td>1</td>\n",
              "      <td>0</td>\n",
              "      <td>0</td>\n",
              "      <td>0</td>\n",
              "      <td>0</td>\n",
              "      <td>1</td>\n",
              "      <td>1</td>\n",
              "    </tr>\n",
              "    <tr>\n",
              "      <th>2</th>\n",
              "      <td>5</td>\n",
              "      <td>2</td>\n",
              "      <td>2</td>\n",
              "      <td>2</td>\n",
              "      <td>1</td>\n",
              "      <td>0</td>\n",
              "      <td>0</td>\n",
              "      <td>0</td>\n",
              "      <td>0</td>\n",
              "      <td>1</td>\n",
              "      <td>1</td>\n",
              "    </tr>\n",
              "    <tr>\n",
              "      <th>3</th>\n",
              "      <td>1</td>\n",
              "      <td>2</td>\n",
              "      <td>1</td>\n",
              "      <td>2</td>\n",
              "      <td>0</td>\n",
              "      <td>0</td>\n",
              "      <td>0</td>\n",
              "      <td>0</td>\n",
              "      <td>1</td>\n",
              "      <td>1</td>\n",
              "      <td>0</td>\n",
              "    </tr>\n",
              "    <tr>\n",
              "      <th>4</th>\n",
              "      <td>2</td>\n",
              "      <td>1</td>\n",
              "      <td>2</td>\n",
              "      <td>3</td>\n",
              "      <td>1</td>\n",
              "      <td>1</td>\n",
              "      <td>0</td>\n",
              "      <td>0</td>\n",
              "      <td>1</td>\n",
              "      <td>1</td>\n",
              "      <td>0</td>\n",
              "    </tr>\n",
              "  </tbody>\n",
              "</table>\n",
              "</div>\n",
              "      <button class=\"colab-df-convert\" onclick=\"convertToInteractive('df-fa836790-5e7e-486a-a18a-8cb83181aa62')\"\n",
              "              title=\"Convert this dataframe to an interactive table.\"\n",
              "              style=\"display:none;\">\n",
              "        \n",
              "  <svg xmlns=\"http://www.w3.org/2000/svg\" height=\"24px\"viewBox=\"0 0 24 24\"\n",
              "       width=\"24px\">\n",
              "    <path d=\"M0 0h24v24H0V0z\" fill=\"none\"/>\n",
              "    <path d=\"M18.56 5.44l.94 2.06.94-2.06 2.06-.94-2.06-.94-.94-2.06-.94 2.06-2.06.94zm-11 1L8.5 8.5l.94-2.06 2.06-.94-2.06-.94L8.5 2.5l-.94 2.06-2.06.94zm10 10l.94 2.06.94-2.06 2.06-.94-2.06-.94-.94-2.06-.94 2.06-2.06.94z\"/><path d=\"M17.41 7.96l-1.37-1.37c-.4-.4-.92-.59-1.43-.59-.52 0-1.04.2-1.43.59L10.3 9.45l-7.72 7.72c-.78.78-.78 2.05 0 2.83L4 21.41c.39.39.9.59 1.41.59.51 0 1.02-.2 1.41-.59l7.78-7.78 2.81-2.81c.8-.78.8-2.07 0-2.86zM5.41 20L4 18.59l7.72-7.72 1.47 1.35L5.41 20z\"/>\n",
              "  </svg>\n",
              "      </button>\n",
              "      \n",
              "  <style>\n",
              "    .colab-df-container {\n",
              "      display:flex;\n",
              "      flex-wrap:wrap;\n",
              "      gap: 12px;\n",
              "    }\n",
              "\n",
              "    .colab-df-convert {\n",
              "      background-color: #E8F0FE;\n",
              "      border: none;\n",
              "      border-radius: 50%;\n",
              "      cursor: pointer;\n",
              "      display: none;\n",
              "      fill: #1967D2;\n",
              "      height: 32px;\n",
              "      padding: 0 0 0 0;\n",
              "      width: 32px;\n",
              "    }\n",
              "\n",
              "    .colab-df-convert:hover {\n",
              "      background-color: #E2EBFA;\n",
              "      box-shadow: 0px 1px 2px rgba(60, 64, 67, 0.3), 0px 1px 3px 1px rgba(60, 64, 67, 0.15);\n",
              "      fill: #174EA6;\n",
              "    }\n",
              "\n",
              "    [theme=dark] .colab-df-convert {\n",
              "      background-color: #3B4455;\n",
              "      fill: #D2E3FC;\n",
              "    }\n",
              "\n",
              "    [theme=dark] .colab-df-convert:hover {\n",
              "      background-color: #434B5C;\n",
              "      box-shadow: 0px 1px 3px 1px rgba(0, 0, 0, 0.15);\n",
              "      filter: drop-shadow(0px 1px 2px rgba(0, 0, 0, 0.3));\n",
              "      fill: #FFFFFF;\n",
              "    }\n",
              "  </style>\n",
              "\n",
              "      <script>\n",
              "        const buttonEl =\n",
              "          document.querySelector('#df-fa836790-5e7e-486a-a18a-8cb83181aa62 button.colab-df-convert');\n",
              "        buttonEl.style.display =\n",
              "          google.colab.kernel.accessAllowed ? 'block' : 'none';\n",
              "\n",
              "        async function convertToInteractive(key) {\n",
              "          const element = document.querySelector('#df-fa836790-5e7e-486a-a18a-8cb83181aa62');\n",
              "          const dataTable =\n",
              "            await google.colab.kernel.invokeFunction('convertToInteractive',\n",
              "                                                     [key], {});\n",
              "          if (!dataTable) return;\n",
              "\n",
              "          const docLinkHtml = 'Like what you see? Visit the ' +\n",
              "            '<a target=\"_blank\" href=https://colab.research.google.com/notebooks/data_table.ipynb>data table notebook</a>'\n",
              "            + ' to learn more about interactive tables.';\n",
              "          element.innerHTML = '';\n",
              "          dataTable['output_type'] = 'display_data';\n",
              "          await google.colab.output.renderOutput(dataTable, element);\n",
              "          const docLink = document.createElement('div');\n",
              "          docLink.innerHTML = docLinkHtml;\n",
              "          element.appendChild(docLink);\n",
              "        }\n",
              "      </script>\n",
              "    </div>\n",
              "  </div>\n",
              "  "
            ]
          },
          "metadata": {},
          "execution_count": 13
        }
      ]
    },
    {
      "cell_type": "code",
      "source": [
        "train_Y"
      ],
      "metadata": {
        "colab": {
          "base_uri": "https://localhost:8080/"
        },
        "id": "Eb0XaPLtSGda",
        "outputId": "01d78312-c1c5-465a-efdc-3a8fefb0ac81"
      },
      "execution_count": null,
      "outputs": [
        {
          "output_type": "execute_result",
          "data": {
            "text/plain": [
              "0       6835\n",
              "1       9005\n",
              "2       9005\n",
              "3       5105\n",
              "4       9105\n",
              "        ... \n",
              "2995    4825\n",
              "2996    6755\n",
              "2997    7565\n",
              "2998    9135\n",
              "2999    8955\n",
              "Name: price, Length: 3000, dtype: int64"
            ]
          },
          "metadata": {},
          "execution_count": 15
        }
      ]
    },
    {
      "cell_type": "code",
      "source": [
        "# PREDICTING PRICE"
      ],
      "metadata": {
        "id": "1gS0T2X_STQ7"
      },
      "execution_count": null,
      "outputs": []
    },
    {
      "cell_type": "code",
      "execution_count": null,
      "metadata": {
        "id": "26249901-4a78-4887-a831-c4f705d5cbff"
      },
      "outputs": [],
      "source": [
        "# Let's build a linear regression model\n",
        "from sklearn.linear_model import LinearRegression\n",
        "reg = LinearRegression().fit(train_X, train_Y)"
      ]
    },
    {
      "cell_type": "code",
      "source": [
        "reg"
      ],
      "metadata": {
        "colab": {
          "base_uri": "https://localhost:8080/",
          "height": 75
        },
        "id": "3SigBL24Srnb",
        "outputId": "1e690877-a084-4f0e-ab76-8764a98741c4"
      },
      "execution_count": null,
      "outputs": [
        {
          "output_type": "execute_result",
          "data": {
            "text/plain": [
              "LinearRegression()"
            ],
            "text/html": [
              "<style>#sk-container-id-1 {color: black;background-color: white;}#sk-container-id-1 pre{padding: 0;}#sk-container-id-1 div.sk-toggleable {background-color: white;}#sk-container-id-1 label.sk-toggleable__label {cursor: pointer;display: block;width: 100%;margin-bottom: 0;padding: 0.3em;box-sizing: border-box;text-align: center;}#sk-container-id-1 label.sk-toggleable__label-arrow:before {content: \"▸\";float: left;margin-right: 0.25em;color: #696969;}#sk-container-id-1 label.sk-toggleable__label-arrow:hover:before {color: black;}#sk-container-id-1 div.sk-estimator:hover label.sk-toggleable__label-arrow:before {color: black;}#sk-container-id-1 div.sk-toggleable__content {max-height: 0;max-width: 0;overflow: hidden;text-align: left;background-color: #f0f8ff;}#sk-container-id-1 div.sk-toggleable__content pre {margin: 0.2em;color: black;border-radius: 0.25em;background-color: #f0f8ff;}#sk-container-id-1 input.sk-toggleable__control:checked~div.sk-toggleable__content {max-height: 200px;max-width: 100%;overflow: auto;}#sk-container-id-1 input.sk-toggleable__control:checked~label.sk-toggleable__label-arrow:before {content: \"▾\";}#sk-container-id-1 div.sk-estimator input.sk-toggleable__control:checked~label.sk-toggleable__label {background-color: #d4ebff;}#sk-container-id-1 div.sk-label input.sk-toggleable__control:checked~label.sk-toggleable__label {background-color: #d4ebff;}#sk-container-id-1 input.sk-hidden--visually {border: 0;clip: rect(1px 1px 1px 1px);clip: rect(1px, 1px, 1px, 1px);height: 1px;margin: -1px;overflow: hidden;padding: 0;position: absolute;width: 1px;}#sk-container-id-1 div.sk-estimator {font-family: monospace;background-color: #f0f8ff;border: 1px dotted black;border-radius: 0.25em;box-sizing: border-box;margin-bottom: 0.5em;}#sk-container-id-1 div.sk-estimator:hover {background-color: #d4ebff;}#sk-container-id-1 div.sk-parallel-item::after {content: \"\";width: 100%;border-bottom: 1px solid gray;flex-grow: 1;}#sk-container-id-1 div.sk-label:hover label.sk-toggleable__label {background-color: #d4ebff;}#sk-container-id-1 div.sk-serial::before {content: \"\";position: absolute;border-left: 1px solid gray;box-sizing: border-box;top: 0;bottom: 0;left: 50%;z-index: 0;}#sk-container-id-1 div.sk-serial {display: flex;flex-direction: column;align-items: center;background-color: white;padding-right: 0.2em;padding-left: 0.2em;position: relative;}#sk-container-id-1 div.sk-item {position: relative;z-index: 1;}#sk-container-id-1 div.sk-parallel {display: flex;align-items: stretch;justify-content: center;background-color: white;position: relative;}#sk-container-id-1 div.sk-item::before, #sk-container-id-1 div.sk-parallel-item::before {content: \"\";position: absolute;border-left: 1px solid gray;box-sizing: border-box;top: 0;bottom: 0;left: 50%;z-index: -1;}#sk-container-id-1 div.sk-parallel-item {display: flex;flex-direction: column;z-index: 1;position: relative;background-color: white;}#sk-container-id-1 div.sk-parallel-item:first-child::after {align-self: flex-end;width: 50%;}#sk-container-id-1 div.sk-parallel-item:last-child::after {align-self: flex-start;width: 50%;}#sk-container-id-1 div.sk-parallel-item:only-child::after {width: 0;}#sk-container-id-1 div.sk-dashed-wrapped {border: 1px dashed gray;margin: 0 0.4em 0.5em 0.4em;box-sizing: border-box;padding-bottom: 0.4em;background-color: white;}#sk-container-id-1 div.sk-label label {font-family: monospace;font-weight: bold;display: inline-block;line-height: 1.2em;}#sk-container-id-1 div.sk-label-container {text-align: center;}#sk-container-id-1 div.sk-container {/* jupyter's `normalize.less` sets `[hidden] { display: none; }` but bootstrap.min.css set `[hidden] { display: none !important; }` so we also need the `!important` here to be able to override the default hidden behavior on the sphinx rendered scikit-learn.org. See: https://github.com/scikit-learn/scikit-learn/issues/21755 */display: inline-block !important;position: relative;}#sk-container-id-1 div.sk-text-repr-fallback {display: none;}</style><div id=\"sk-container-id-1\" class=\"sk-top-container\"><div class=\"sk-text-repr-fallback\"><pre>LinearRegression()</pre><b>In a Jupyter environment, please rerun this cell to show the HTML representation or trust the notebook. <br />On GitHub, the HTML representation is unable to render, please try loading this page with nbviewer.org.</b></div><div class=\"sk-container\" hidden><div class=\"sk-item\"><div class=\"sk-estimator sk-toggleable\"><input class=\"sk-toggleable__control sk-hidden--visually\" id=\"sk-estimator-id-1\" type=\"checkbox\" checked><label for=\"sk-estimator-id-1\" class=\"sk-toggleable__label sk-toggleable__label-arrow\">LinearRegression</label><div class=\"sk-toggleable__content\"><pre>LinearRegression()</pre></div></div></div></div></div>"
            ]
          },
          "metadata": {},
          "execution_count": 17
        }
      ]
    },
    {
      "cell_type": "code",
      "execution_count": null,
      "metadata": {
        "id": "6c0d904a-5ec0-4761-9b35-cef049f07ee5"
      },
      "outputs": [],
      "source": [
        "# use the linear regression model to predict\n",
        "predicted = reg.predict(test_X)"
      ]
    },
    {
      "cell_type": "code",
      "source": [
        "predicted"
      ],
      "metadata": {
        "colab": {
          "base_uri": "https://localhost:8080/"
        },
        "id": "5UTRFRVTS_c9",
        "outputId": "1dfbdf39-9b3b-4751-908e-1de7f8413453"
      },
      "execution_count": null,
      "outputs": [
        {
          "output_type": "execute_result",
          "data": {
            "text/plain": [
              "array([ 5055.,  7645., 11305.,  8845., 11165., 11375., 11735.,  6835.,\n",
              "        7815.,  5895.,  9095.,  8295.,  6695., 11305.,  7205.,  9165.,\n",
              "        8775., 12745.,  9745.,  6655.,  9325.,  7785.,  7075.,  4315.,\n",
              "        9965.,  6855.,  7335.,  8895.,  6325.,  9695.,  6645., 10305.,\n",
              "       10485.,  8195.,  7565., 10355.,  9475., 11115.,  9765., 12825.,\n",
              "        6295.,  5125.,  9825.,  8895., 11715.,  6205.,  4095., 11475.,\n",
              "        9565.,  5535., 11455., 10395.,  4125.,  7735., 13055.,  9595.,\n",
              "        6445.,  8365., 10155.,  7835.,  8275., 14305.,  7075.,  8435.,\n",
              "       12625.,  7095., 11435., 10555., 10095.,  5535.,  8235., 12095.,\n",
              "        4215.,  5865.,  9355.,  9245.,  7065., 11625., 10855., 10825.,\n",
              "        8785.,  7355., 11865.,  8315., 11805.,  5945.,  8775.,  8275.,\n",
              "        7165.,  8245.,  7575., 11925., 11965.,  7975.,  6645., 10795.,\n",
              "       11235.,  8195.,  9355.,  7445.,  7235.,  8935.,  4575.,  9675.,\n",
              "        5735.,  5075., 10645.,  9705.,  8605., 12515.,  8165.,  6105.,\n",
              "        9175.,  6705.,  9265.,  9605.,  9925.,  7345.,  9215.,  7785.,\n",
              "        8395.,  7535.,  6565.,  8665., 12195., 10195., 10905.,  5785.,\n",
              "        5225.,  6095.,  3845.,  6235.,  9975.,  6465., 11025.,  6565.,\n",
              "        4975., 11695.,  8105.,  9135., 10605., 10325.,  5505.,  7435.,\n",
              "        8895., 11485.,  5995.,  7265.,  5185., 10695., 13005.,  9735.,\n",
              "       10425., 11185.,  8295., 11925.,  7745.,  8005., 10355., 10035.,\n",
              "       11995.,  8665., 10825.,  6935.,  9425.,  9695., 12285.,  7405.,\n",
              "       11715.,  5595.,  9305.,  8145., 10905.,  5655.,  6645.,  7815.,\n",
              "        8195.,  9665.,  7865., 10445., 11795.,  8305.,  8885.,  8325.,\n",
              "        5175.,  9645.,  8895.,  8645., 10135.,  7705.,  5865.,  8405.,\n",
              "        5345.,  6275.,  7275.,  7345., 11795.,  9905.,  5715., 11345.,\n",
              "        9535.,  7525., 12955.,  5345.,  7995.,  7885., 10225.,  8365.,\n",
              "       10165., 11935., 10685.,  8895.,  8975.,  8135.,  9325., 12165.,\n",
              "        9605.,  6965.,  6075.,  5475., 12635.,  4105.,  5745.,  8745.,\n",
              "        8835.,  6165.,  7845.,  6545.,  7785.,  4705., 12865.,  7995.,\n",
              "        7435.,  9195.,  6135., 13685.,  9045., 10355.,  8835.,  6835.,\n",
              "        5535.,  8005.,  7405.,  8785.,  8765., 11625.,  9135., 10875.,\n",
              "       11295.,  7765.,  9105.,  8315.,  6675.,  5575.,  7395.,  6805.,\n",
              "        9625.,  8055.,  6035.,  6665., 11205.,  9945.,  5275.,  8965.,\n",
              "       11305.,  6985.,  7305., 10705.,  7745., 11145., 11795.,  5455.,\n",
              "        6415.,  9515.,  8435.,  9545.,  8805.,  4205., 10605.,  9005.,\n",
              "        2775.,  9705., 12465., 10445.,  4745., 11055., 11905.,  6465.,\n",
              "       10055.,  9375., 10905.,  9195., 11435.,  9475.,  9295., 10105.,\n",
              "        9085.,  5385.,  8945., 10495.,  8855., 11325.,  8545.,  8095.,\n",
              "        6525.,  7065.,  9165., 10395.,  8455., 10705.,  9945., 11615.,\n",
              "        7455.,  8965.,  8365.,  5865.,  8405.,  8445.,  9675.,  7705.,\n",
              "        8055.,  7405.,  9715.,  7555.,  9455.,  6295.,  9455.,  7475.,\n",
              "        8265.,  5905.,  7735.,  7755.,  8715.,  5595.,  8285.,  9675.,\n",
              "        7345., 11175.,  7875.,  6575., 10245.,  7785.,  4065., 12385.,\n",
              "        8205., 12695.,  9025., 10145.,  6875.,  5865., 11655., 11035.,\n",
              "        4235.,  7175., 10195.,  6385.,  7225.,  9485., 12495.,  8605.,\n",
              "        4835.,  6265.,  6545.,  8165.,  9495.,  8955.,  5535.,  5985.,\n",
              "        6895.,  8415., 10175., 11495.,  9425.,  9215.,  8425.,  7865.,\n",
              "        9355.,  4575.,  9105.,  4875.,  8335.,  7855.,  6855.,  8685.,\n",
              "        7065.,  5745.,  8545.,  9005.,  4565.,  3335.,  7695.,  5915.,\n",
              "        9945.,  7365.,  8055.,  7965.,  6375.,  6735.,  8595.,  7935.,\n",
              "        7995.,  7265.,  4795.,  9235.,  9215., 10665., 10865.,  8145.,\n",
              "        7175.,  7045.,  8585.,  8965.,  5015.,  4845.,  8435., 11655.,\n",
              "        7115., 10345.,  5975., 11625.,  8615., 12565., 11555.,  9245.,\n",
              "       10975., 12135., 11625.,  7905., 10195., 11305.,  8815.,  6865.,\n",
              "       13325.,  6795., 10015.,  7245., 11295.,  6995.,  5885.,  8135.,\n",
              "        6905.,  5495.,  8395.,  7905.,  7805.,  8855., 10965., 12825.,\n",
              "        8245.,  6635.,  7635.,  9955.,  7545.,  8665.,  8145.,  7205.,\n",
              "        8865.,  6395.,  8135.,  8185.,  9775.,  9625.,  5145.,  5495.,\n",
              "        6845.,  9525.,  7915.,  7085.,  6425.,  7055.,  8295.,  9735.,\n",
              "        8615., 11065.,  5625.,  8265.,  9365.,  6195.,  7535.,  9255.,\n",
              "        9485., 10195.,  6815.,  8085.,  7555.,  9525.,  5315., 11135.,\n",
              "        7325.,  8555., 10935.,  8555.,  7415.,  9585.,  5955.,  5735.,\n",
              "        9115.,  5405., 10905.,  8265.,  9845., 10615.,  8685.,  7005.,\n",
              "        8275.,  6945.,  8385.,  9175.,  9865.,  9235.,  8715., 10335.,\n",
              "        8695.,  5875., 10135.,  5675., 12005.,  3605.,  4105.,  9695.,\n",
              "       12595., 13805.,  6405., 12705., 12235.,  5935.,  8435.,  9055.,\n",
              "        8265.,  9675., 11075.,  4165.,  7435.,  9405.,  9465.,  7905.,\n",
              "        5305.,  9055., 10705.,  9875.,  6935., 10835.,  7325., 13055.,\n",
              "        6095., 11825., 11895.,  7545.,  7535.,  5365.,  2675., 13455.,\n",
              "       10215.,  7985.,  6815., 12225.,  8565.,  7995., 12065.,  9905.,\n",
              "        9285., 10275.,  7485.,  9325.,  4305.,  5585., 10905.,  6005.,\n",
              "        7555.,  4505.,  7905.,  5715., 10105.,  8795., 11245.,  8605.,\n",
              "        8475.,  7645.,  6245.,  6915.,  8655., 11795.,  7825.,  8815.,\n",
              "        9935.,  9205., 11505.,  9675.,  9475., 10035.,  9325.,  6675.,\n",
              "       10295.,  6395., 10475.,  6865.,  8375.,  5885.,  7745.,  9855.,\n",
              "        9595., 11845.,  7565.,  8365.,  3915.,  8875.,  8495.,  7455.,\n",
              "        9715., 11255.,  2905.,  9405., 12765.,  9905.,  6695.,  5715.,\n",
              "       12105., 12465.,  7005.,  8685.,  9215.,  8975.,  9735.,  7865.,\n",
              "        9295., 10765.,  7845.,  8365.,  8705.,  6575., 11975.,  8865.,\n",
              "        8165.,  7765.,  7835.,  9425.,  7385.,  6595.,  5765.,  5805.,\n",
              "       10805., 10335.,  7025., 12065.,  8805.,  8055., 11195.,  5645.,\n",
              "        9475.,  6345., 12885.,  7675.,  9105., 10475.,  6225.,  6975.,\n",
              "        6075.,  8105.,  9795.,  7075.,  3765.,  8205.,  8465.,  5585.,\n",
              "       10995.,  9055.,  7365.,  4975.,  6455., 11235.,  8265., 12105.,\n",
              "        7295.,  9735.,  9215.,  9635.,  4755.,  4595., 11695.,  9145.,\n",
              "        8295., 10245.,  8205., 10465.,  3175.,  7635.,  9645.,  7415.,\n",
              "        6905.,  8745.,  9095., 11025., 11885.,  4855.,  7355., 11625.,\n",
              "        8065.,  8965., 10095.,  5115., 10815., 11065.,  7225.,  8555.,\n",
              "        8095.,  6815.,  8475.,  9175.,  3945., 10295., 10395., 12535.,\n",
              "        8735.,  4535., 10405.,  5135.,  9135.,  6805.,  8995.,  5075.,\n",
              "        8975.,  6105.,  9205.,  7435.,  5405.,  7965.,  8535.,  7935.,\n",
              "       10885., 10155., 11755., 10215.,  3415.,  9655., 13055.,  8765.,\n",
              "        7765.,  9365.,  8205.,  9975., 10605.,  8725.,  8525.,  3215.,\n",
              "        5175.,  7765.,  9055., 11535.,  8205., 11195., 11655.,  6835.,\n",
              "        3635.,  9675., 10305.,  9325.,  8195., 10365.,  9735., 10015.,\n",
              "       10215., 11205., 10735.,  5935., 10075., 11915.,  8675., 13925.,\n",
              "        9775.,  5575., 11335., 11065.,  9735.,  4445., 12285.,  6955.,\n",
              "       10455., 11475., 11105.,  9425.,  8085., 14005.,  7645., 10345.,\n",
              "        7125.,  8165.,  7295.,  7205.,  9065.,  9875.,  6765.,  7735.,\n",
              "       10415.,  9555.,  6145.,  6315., 14235.,  9145.,  8485.,  8885.,\n",
              "        8385.,  6395.,  5595.,  5625.,  9175.,  7975.,  8355., 10405.,\n",
              "        8995., 11605.,  5715.,  7115.,  8735.,  7005.,  6345., 12245.,\n",
              "        5875., 11255., 10465.,  8285., 11735., 11415., 11665.,  9135.,\n",
              "       10165.,  7055.,  8525.,  7845.,  6835., 12225.,  7385., 10005.,\n",
              "        7345.,  3405.,  9645.,  7745.,  8265.,  9495.,  6145., 10245.,\n",
              "        6805., 10965., 11115.,  6435., 11965., 10045.,  5175.,  9535.,\n",
              "        7325.,  4805., 12065.,  8265.,  8875., 11225.,  8535.,  9645.,\n",
              "        9275.,  5665.,  7315.,  6015.,  7965.,  5625., 12145.,  9035.,\n",
              "       13445.,  5715.,  6005.,  5365.,  3405., 10175.,  8565., 11235.,\n",
              "        4625.,  6025.,  7365.,  6625.,  9665., 11415.,  7855.,  5705.,\n",
              "        7555.,  9675.,  5475.,  6455.,  8085.,  9595.,  8395.,  6975.,\n",
              "        6795., 10285., 11445.,  5155.,  8675., 12825.,  3475., 10685.,\n",
              "       11705.,  8295.,  7275.,  9435., 10125.,  6605.,  9805., 11505.,\n",
              "        7575.,  7925., 10005.,  9225.,  4375.,  8105., 12705.,  4415.,\n",
              "        7575., 10235.,  7605., 10665.,  9555.,  6905.,  7045.,  4995.,\n",
              "        8075.,  9265.,  8755.,  8165., 13435.,  7765.,  9135.,  8795.,\n",
              "        5905.,  9545.,  8555.,  8925.,  9805.,  7165.,  9875.,  9765.,\n",
              "        5075., 11495.,  5735.,  6895., 11215., 12695., 13445., 12455.,\n",
              "        8765.,  7435.,  9805., 10795.,  7865., 13995.,  8115.,  8595.,\n",
              "       10805., 11395.,  5415.,  5345.,  9855.,  6895., 11055., 12835.,\n",
              "        8725.,  7355.,  5585.,  8215., 13825.,  9115.,  9875.,  5705.,\n",
              "        6165., 10455., 13175., 12115.,  9655.,  9565.,  8765.,  8725.,\n",
              "       11435.,  8085.,  6425.,  5005., 12465., 10535.,  8335.,  5025.,\n",
              "        9555.,  5455.,  2735.,  7605., 10845.,  6655., 10055., 11765.,\n",
              "        9775.,  5475., 10075.,  9775.,  9375.,  8515.,  6105.])"
            ]
          },
          "metadata": {},
          "execution_count": 19
        }
      ]
    },
    {
      "cell_type": "code",
      "execution_count": null,
      "metadata": {
        "id": "eb0d989c-4455-4f18-9e38-9b1d64b991b3",
        "colab": {
          "base_uri": "https://localhost:8080/"
        },
        "outputId": "d59143e1-4de0-4d1d-d754-8e64a446fd9b"
      },
      "outputs": [
        {
          "output_type": "stream",
          "name": "stdout",
          "text": [
            "1.0\n"
          ]
        }
      ],
      "source": [
        "print(reg.score(train_X, train_Y))"
      ]
    },
    {
      "cell_type": "code",
      "source": [
        "print(mean_absolute_error(test_Y, predicted))"
      ],
      "metadata": {
        "colab": {
          "base_uri": "https://localhost:8080/"
        },
        "id": "cDLvkFvRA5iy",
        "outputId": "cf299869-57ca-4878-dd56-5d1b7c78196a"
      },
      "execution_count": null,
      "outputs": [
        {
          "output_type": "stream",
          "name": "stdout",
          "text": [
            "13.000000000000469\n"
          ]
        }
      ]
    },
    {
      "cell_type": "code",
      "source": [
        "def make_plot(truth, prediction):\n",
        "  plt.plot(truth, color=\"red\", label=\"actual\")\n",
        "  plt.plot(prediction, color=\"blue\", label=\"predicted\")\n",
        "  plt.legend()\n",
        "  plt.grid()\n",
        "  plt.title(\"Comparing actual price and predicted price\")\n",
        "  plt.tight_layout()\n",
        "  plt.show()"
      ],
      "metadata": {
        "id": "gA6Sof0qptDj"
      },
      "execution_count": null,
      "outputs": []
    },
    {
      "cell_type": "code",
      "source": [
        "make_plot(test_Y, predicted)"
      ],
      "metadata": {
        "id": "dxWohyxgpQCw",
        "colab": {
          "base_uri": "https://localhost:8080/",
          "height": 487
        },
        "outputId": "a80a5918-152d-408b-a271-7f94d1954038"
      },
      "execution_count": null,
      "outputs": [
        {
          "output_type": "display_data",
          "data": {
            "text/plain": [
              "<Figure size 640x480 with 1 Axes>"
            ],
            "image/png": "[encoded data removed]"
          },
          "metadata": {}
        }
      ]
    },
    {
      "cell_type": "code",
      "execution_count": null,
      "metadata": {
        "id": "5c4dc5b3-bc5d-4fd8-9d5d-9c932a253b0a",
        "colab": {
          "base_uri": "https://localhost:8080/"
        },
        "outputId": "fb4293bb-8016-45e0-f476-5840e1c97c35"
      },
      "outputs": [
        {
          "output_type": "stream",
          "name": "stdout",
          "text": [
            "0.9984689249699953\n",
            "169.96816816816818\n"
          ]
        }
      ],
      "source": [
        "# Random forest regression\n",
        "from sklearn.ensemble import RandomForestRegressor\n",
        "rf_reg = RandomForestRegressor().fit(train_X, train_Y)\n",
        "rf_predicted = rf_reg.predict(test_X)\n",
        "print(rf_reg.score(train_X, train_Y))\n",
        "print(mean_absolute_error(test_Y, rf_predicted))"
      ]
    },
    {
      "cell_type": "code",
      "source": [
        "make_plot(test_Y, rf_predicted)"
      ],
      "metadata": {
        "id": "M8CRH3dNqslX",
        "colab": {
          "base_uri": "https://localhost:8080/",
          "height": 487
        },
        "outputId": "054eb066-0344-4bb6-f6ac-9a68fdb4c466"
      },
      "execution_count": null,
      "outputs": [
        {
          "output_type": "display_data",
          "data": {
            "text/plain": [
              "<Figure size 640x480 with 1 Axes>"
            ],
            "image/png": "[encoded data removed]"
          },
          "metadata": {}
        }
      ]
    },
    {
      "cell_type": "code",
      "source": [
        "# IMPORTANCE OF EACH FEATURES\n",
        "rf_reg.feature_importances_"
      ],
      "metadata": {
        "colab": {
          "base_uri": "https://localhost:8080/"
        },
        "id": "VZkVkspjDHt6",
        "outputId": "069787ec-8e09-485d-bf92-af16e9c98ed1"
      },
      "execution_count": null,
      "outputs": [
        {
          "output_type": "execute_result",
          "data": {
            "text/plain": [
              "array([0.42974375, 0.00471936, 0.01117354, 0.00891518, 0.01464479,\n",
              "       0.1982816 , 0.0069176 , 0.1137807 , 0.17702208, 0.00879358,\n",
              "       0.02600782])"
            ]
          },
          "metadata": {},
          "execution_count": 32
        }
      ]
    },
    {
      "cell_type": "code",
      "source": [
        "train.columns"
      ],
      "metadata": {
        "colab": {
          "base_uri": "https://localhost:8080/"
        },
        "id": "GVbDe3LYW128",
        "outputId": "e18f16b0-249f-400c-c906-a384e4c0e8dc"
      },
      "execution_count": null,
      "outputs": [
        {
          "output_type": "execute_result",
          "data": {
            "text/plain": [
              "Index(['room', 'bathroom', 'kitchen', 'french_door', 'backyard', 'furnished',\n",
              "       'green_paint', 'solar_power', 'woodfloor', 'qlm_security',\n",
              "       'club_access', 'price'],\n",
              "      dtype='object')"
            ]
          },
          "metadata": {},
          "execution_count": 33
        }
      ]
    },
    {
      "cell_type": "code",
      "source": [
        "imp_scores = zip(rf_reg.feature_importances_, train.columns)\n",
        "sorted(list(imp_scores), reverse=True)"
      ],
      "metadata": {
        "colab": {
          "base_uri": "https://localhost:8080/"
        },
        "id": "PrAH3ErZDeDp",
        "outputId": "e89a34c7-d2f3-4ada-9499-b8d69e9cb925"
      },
      "execution_count": null,
      "outputs": [
        {
          "output_type": "execute_result",
          "data": {
            "text/plain": [
              "[(0.42974375185342145, 'room'),\n",
              " (0.19828159720186458, 'furnished'),\n",
              " (0.17702208373953093, 'woodfloor'),\n",
              " (0.11378069886492102, 'solar_power'),\n",
              " (0.026007820443559405, 'club_access'),\n",
              " (0.014644792060988482, 'backyard'),\n",
              " (0.011173535355302439, 'kitchen'),\n",
              " (0.0089151834303715, 'french_door'),\n",
              " (0.00879358040519796, 'qlm_security'),\n",
              " (0.006917600928894561, 'green_paint'),\n",
              " (0.004719355715947596, 'bathroom')]"
            ]
          },
          "metadata": {},
          "execution_count": 34
        }
      ]
    },
    {
      "cell_type": "code",
      "execution_count": null,
      "metadata": {
        "id": "be5e8255-3b0b-4adf-b4e4-5954ac138a86",
        "colab": {
          "base_uri": "https://localhost:8080/"
        },
        "outputId": "0c33c08c-f14e-4d93-97b4-c25ef63df903"
      },
      "outputs": [
        {
          "output_type": "stream",
          "name": "stdout",
          "text": [
            "0.42974375185342145 room\n",
            "0.19828159720186458 furnished\n",
            "0.17702208373953093 woodfloor\n",
            "0.11378069886492102 solar_power\n",
            "0.026007820443559405 club_access\n",
            "0.014644792060988482 backyard\n",
            "0.011173535355302439 kitchen\n",
            "0.0089151834303715 french_door\n",
            "0.00879358040519796 qlm_security\n",
            "0.006917600928894561 green_paint\n",
            "0.004719355715947596 bathroom\n"
          ]
        }
      ],
      "source": [
        "rf_importances = rf_reg.feature_importances_\n",
        "rf_reg.feature_names_in_\n",
        "ranks_and_features = zip(rf_importances, rf_reg.feature_names_in_)\n",
        "ranks_and_features = sorted(ranks_and_features,reverse=True)\n",
        "for x, y in ranks_and_features:\n",
        "    print(x, y)"
      ]
    },
    {
      "cell_type": "code",
      "execution_count": null,
      "metadata": {
        "id": "73f0be73-3933-4a48-8a23-5b963467d23a",
        "colab": {
          "base_uri": "https://localhost:8080/"
        },
        "outputId": "6ee62f4e-158f-49a3-b0cc-052010dc6a7b"
      },
      "outputs": [
        {
          "output_type": "execute_result",
          "data": {
            "text/plain": [
              "['bathroom',\n",
              " 'green_paint',\n",
              " 'qlm_security',\n",
              " 'french_door',\n",
              " 'kitchen',\n",
              " 'backyard',\n",
              " 'club_access',\n",
              " 'solar_power',\n",
              " 'woodfloor',\n",
              " 'furnished',\n",
              " 'room']"
            ]
          },
          "metadata": {},
          "execution_count": 44
        }
      ],
      "source": [
        "keys = [k[1] for k in ranks_and_features ] [::-1]\n",
        "keys"
      ]
    },
    {
      "cell_type": "code",
      "source": [
        "values = [k[0] for k in ranks_and_features ][::-1]\n",
        "values"
      ],
      "metadata": {
        "colab": {
          "base_uri": "https://localhost:8080/"
        },
        "id": "wPOprctJFtlS",
        "outputId": "69af2b4c-322a-41fb-9b1f-44b14a4d4d24"
      },
      "execution_count": null,
      "outputs": [
        {
          "output_type": "execute_result",
          "data": {
            "text/plain": [
              "[0.004719355715947596,\n",
              " 0.006917600928894561,\n",
              " 0.00879358040519796,\n",
              " 0.0089151834303715,\n",
              " 0.011173535355302439,\n",
              " 0.014644792060988482,\n",
              " 0.026007820443559405,\n",
              " 0.11378069886492102,\n",
              " 0.17702208373953093,\n",
              " 0.19828159720186458,\n",
              " 0.42974375185342145]"
            ]
          },
          "metadata": {},
          "execution_count": 43
        }
      ]
    },
    {
      "cell_type": "code",
      "source": [
        "plt.barh(keys, values)"
      ],
      "metadata": {
        "colab": {
          "base_uri": "https://localhost:8080/",
          "height": 447
        },
        "id": "XAmsf685FxPf",
        "outputId": "83fa4958-596c-446a-a32b-df6c5a9ab51a"
      },
      "execution_count": null,
      "outputs": [
        {
          "output_type": "execute_result",
          "data": {
            "text/plain": [
              "<BarContainer object of 11 artists>"
            ]
          },
          "metadata": {},
          "execution_count": 45
        },
        {
          "output_type": "display_data",
          "data": {
            "text/plain": [
              "<Figure size 640x480 with 1 Axes>"
            ],
            "image/png": "[encoded data removed]"
          },
          "metadata": {}
        }
      ]
    }
  ]
}